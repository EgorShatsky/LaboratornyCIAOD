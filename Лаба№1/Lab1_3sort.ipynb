{
 "cells": [
  {
   "cell_type": "code",
   "execution_count": 2,
   "id": "brilliant-shepherd",
   "metadata": {},
   "outputs": [
    {
     "name": "stdout",
     "output_type": "stream",
     "text": [
      "[[ 962  442 -178 ... -209  702  860]\n",
      " [ 811  211  567 ...  920   32  626]\n",
      " [ 679 -249  884 ...  213  993  609]\n",
      " ...\n",
      " [ 117 -127  330 ...  315  313  512]\n",
      " [ 564  806 -102 ...   16  806 1005]\n",
      " [ 263  120  -19 ...   50  885   19]]\n"
     ]
    }
   ],
   "source": [
    "from random import randint\n",
    "import numpy as np\n",
    "\n",
    "n, m = 50, 50\n",
    "min_limit = -250\n",
    "max_limit = 1007\n",
    "\n",
    "a = [[randint(min_limit, max_limit) for j in range(m)] for i in range(n)]\n",
    "an = np.asarray(a)\n",
    "print(an)"
   ]
  },
  {
   "cell_type": "code",
   "execution_count": 3,
   "id": "developmental-factory",
   "metadata": {},
   "outputs": [
    {
     "name": "stdout",
     "output_type": "stream",
     "text": [
      "[[-217 -209 -204 ...  911  961  962]\n",
      " [-241 -206 -205 ...  953  968  980]\n",
      " [-249 -198 -128 ...  940  986  993]\n",
      " ...\n",
      " [-226 -217 -175 ...  943  988 1006]\n",
      " [-241 -235 -198 ...  972  973 1005]\n",
      " [-216 -197 -116 ...  895  983 1003]]\n",
      "Wall time: 9.97 ms\n"
     ]
    }
   ],
   "source": [
    "%%time\n",
    "import numpy as np\n",
    "\n",
    "def heap_sort(alist):\n",
    "    build_max_heap(alist)\n",
    "    for i in range(len(alist) - 1, 0, -1):\n",
    "        alist[0], alist[i] = alist[i], alist[0]\n",
    "        max_heapify(alist, index=0, size=i)\n",
    " \n",
    "def parent(i):\n",
    "    return (i - 1)//2\n",
    " \n",
    "def left(i):\n",
    "    return 2*i + 1\n",
    " \n",
    "def right(i):\n",
    "    return 2*i + 2\n",
    " \n",
    "def build_max_heap(alist): \n",
    "    length = len(alist)\n",
    "    start = parent(length - 1)\n",
    "    while start >= 0:\n",
    "        max_heapify(alist, index=start, size=length)\n",
    "        start = start - 1\n",
    " \n",
    "def max_heapify(alist, index, size):\n",
    "    l = left(index)\n",
    "    r = right(index)\n",
    "    if (l < size and alist[l] > alist[index]):\n",
    "        largest = l\n",
    "    else:\n",
    "        largest = index\n",
    "    if (r < size and alist[r] > alist[largest]):\n",
    "        largest = r\n",
    "    if (largest != index):\n",
    "        alist[largest], alist[index] = alist[index], alist[largest]\n",
    "        max_heapify(alist, largest, size)\n",
    "\n",
    "k=0\n",
    "while k<=n-1:\n",
    "    heap_sort(a[k])\n",
    "    k=k+1\n",
    "\n",
    "an = np.asarray(a)\n",
    "print(an)"
   ]
  },
  {
   "cell_type": "code",
   "execution_count": 6,
   "id": "right-money",
   "metadata": {},
   "outputs": [
    {
     "name": "stdout",
     "output_type": "stream",
     "text": [
      "[[-217 -217 -209 ...  442  531  531]\n",
      " [-241 -241 -206 ...  469  481  481]\n",
      " [-249 -249 -198 ...  387  388  388]\n",
      " ...\n",
      " [-226 -226 -217 ...  454  465  465]\n",
      " [-241 -241 -235 ...  523  564  564]\n",
      " [-216 -216 -197 ...  263  291  291]]\n",
      "Wall time: 5.98 ms\n"
     ]
    }
   ],
   "source": [
    "%%time\n",
    "import numpy as np\n",
    "\n",
    "def quick_sort(data):\n",
    "    less = []\n",
    "    pivotList = []\n",
    "    more = []\n",
    "    if len(data) <= 1:\n",
    "        return data\n",
    "    else:\n",
    "        pivot = data[0]\n",
    "        for i in data:\n",
    "            if i < pivot:\n",
    "                less.append(i)\n",
    "            elif i > pivot:\n",
    "                more.append(i)\n",
    "            else:\n",
    "                pivotList.append(i)\n",
    "        less = quick_sort(less)\n",
    "        more = quick_sort(more)\n",
    "        return less + pivotList + more\n",
    "\n",
    "k=0\n",
    "while k<=n-1:\n",
    "    quick_sort(a[k])\n",
    "    k=k+1\n",
    "\n",
    "an = np.asarray(a)\n",
    "print(an)"
   ]
  },
  {
   "cell_type": "code",
   "execution_count": 5,
   "id": "chicken-investing",
   "metadata": {},
   "outputs": [
    {
     "name": "stdout",
     "output_type": "stream",
     "text": [
      "[[-217 -217 -209 ...  442  531  531]\n",
      " [-241 -241 -206 ...  469  481  481]\n",
      " [-249 -249 -198 ...  387  388  388]\n",
      " ...\n",
      " [-226 -226 -217 ...  454  465  465]\n",
      " [-241 -241 -235 ...  523  564  564]\n",
      " [-216 -216 -197 ...  263  291  291]]\n",
      "Wall time: 60.8 ms\n"
     ]
    }
   ],
   "source": [
    "%%time\n",
    "import numpy as np\n",
    "\n",
    "def tournamentSort(arr):\n",
    "    tree = [None] * 2 * (len(arr) + len(arr) % 2)\n",
    "    index = len(tree) - len(arr) - len(arr) % 2\n",
    "\n",
    "    for i, v in enumerate(arr):\n",
    "        tree[index + i] = (i, v)\n",
    "\n",
    "    for j in range(len(arr)):\n",
    "        n = len(arr)\n",
    "        index = len(tree) - len(arr) - len(arr) % 2\n",
    "        while index > -1:\n",
    "            n = (n + 1) // 2\n",
    "            for i in range(n):\n",
    "                i = max(index + i * 2, 1)\n",
    "                if tree[i] is not None and tree[i + 1] is not None:\n",
    "                    if tree[i] < tree[i + 1]:\n",
    "                        tree[i // 2] = tree[i]\n",
    "                    else:\n",
    "                        tree[i // 2] = tree[i + 1]\n",
    "                else:\n",
    "                        tree[i // 2] = tree[i] if tree[i] is not None else tree[i + 1]\n",
    "            index -= n\n",
    "    \n",
    "        index, x = tree[0]\n",
    "        arr[j] = x\n",
    "        tree[len(tree) - len(arr) - len(arr) % 2 + index] = None\n",
    "\n",
    "k=0\n",
    "while k<=n-1:\n",
    "    tournamentSort(a[k])\n",
    "    k=k+1\n",
    "\n",
    "an = np.asarray(a)\n",
    "print(an)"
   ]
  },
  {
   "cell_type": "code",
   "execution_count": null,
   "id": "mighty-alloy",
   "metadata": {},
   "outputs": [],
   "source": []
  }
 ],
 "metadata": {
  "kernelspec": {
   "display_name": "Python 3",
   "language": "python",
   "name": "python3"
  },
  "language_info": {
   "codemirror_mode": {
    "name": "ipython",
    "version": 3
   },
   "file_extension": ".py",
   "mimetype": "text/x-python",
   "name": "python",
   "nbconvert_exporter": "python",
   "pygments_lexer": "ipython3",
   "version": "3.8.7"
  }
 },
 "nbformat": 4,
 "nbformat_minor": 5
}
